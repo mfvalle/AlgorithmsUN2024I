{
  "cells": [
    {
      "cell_type": "markdown",
      "metadata": {
        "id": "view-in-github",
        "colab_type": "text"
      },
      "source": [
        "<a href=\"https://colab.research.google.com/github/mfvalle/AlgorithmsUN2024I/blob/main/Lab5/mvalleGroup21Partitions.ipynb\" target=\"_parent\"><img src=\"https://colab.research.google.com/assets/colab-badge.svg\" alt=\"Open In Colab\"/></a>"
      ]
    },
    {
      "cell_type": "code",
      "execution_count": null,
      "metadata": {
        "id": "l3lsD5oZlfkX"
      },
      "outputs": [],
      "source": []
    },
    {
      "cell_type": "markdown",
      "metadata": {
        "id": "138HHQxvs_U7"
      },
      "source": [
        "# **Partitions**\n",
        "\n",
        "## **Names:** Manuel Valle.\n",
        "## **UN Ids:** mvalle,\n",
        "## **List numbers:** 32,\n",
        "## **Group :** 21\n",
        "\n",
        "_If you use an existing codes include the reference, link and a explanation of how the code works._"
      ]
    },
    {
      "cell_type": "markdown",
      "metadata": {
        "id": "rdu7PcWttfnz"
      },
      "source": [
        "## 1. Write a code that produces the Bell numbers that count the possible partitions of a set fo $n$ elements.\n",
        "\n",
        "**Hints**:\n",
        "-  Output the n-th Bell Number - [stackexchange](https://codegolf.stackexchange.com/questions/132379/output-the-n-th-bell-number).\n",
        "\n",
        "- Bell number [wikipedia](https://en.wikipedia.org/wiki/Bell_number)\n",
        "\n",
        "\n",
        "\n",
        "\n"
      ]
    },
    {
      "cell_type": "code",
      "execution_count": null,
      "metadata": {
        "colab": {
          "base_uri": "https://localhost:8080/"
        },
        "id": "WNo88vvfDFBn",
        "outputId": "fdad4d20-609e-4b27-d609-36029b77f72f"
      },
      "outputs": [
        {
          "name": "stdout",
          "output_type": "stream",
          "text": [
            "The 1-th Bell number is: 1\n",
            "The 2-th Bell number is: 1\n",
            "The 3-th Bell number is: 2\n",
            "The 4-th Bell number is: 5\n",
            "The 5-th Bell number is: 15\n",
            "The 6-th Bell number is: 52\n",
            "The 7-th Bell number is: 203\n",
            "The 8-th Bell number is: 877\n",
            "The 9-th Bell number is: 4140\n",
            "The 10-th Bell number is: 21147\n"
          ]
        }
      ],
      "source": [
        "def bell(n):\n",
        "    if n == 0:\n",
        "        return 1\n",
        "\n",
        "    bell = [[0] * (n + 1) for _ in range(n + 1)]\n",
        "    bell[0][0] = 1\n",
        "\n",
        "    for i in range(1, n + 1):\n",
        "        bell[i][0] = bell[i - 1][i - 1]\n",
        "        for j in range(1, i + 1):\n",
        "            bell[i][j] = bell[i - 1][j - 1] + bell[i][j - 1]\n",
        "\n",
        "    return bell[n][0]\n",
        "\n",
        "# Test the function\n",
        "for i in range(10):  # Testing for the first 10 Bell numbers\n",
        "    print(f\"The {i+1}-th Bell number is: {bell(i)}\")\n"
      ]
    },
    {
      "cell_type": "markdown",
      "metadata": {
        "id": "vSafufOkvDht"
      },
      "source": [
        "## 2.Write a code that that produces the list of all partititions of the set of $[n]=\\{ 1,2,3,4 \\cdots , n-1, n\\}$ with $0 \\le n \\le 10$.\n",
        "\n",
        "**Hints**:\n",
        "- Set partitions in Python - https://stackoverflow.com/questions/19368375/set-partitions-in-python\n",
        "- Generate all partition of a set - https://www.geeksforgeeks.org/generate-all-partition-of-a-set/"
      ]
    },
    {
      "cell_type": "code",
      "execution_count": 6,
      "metadata": {
        "colab": {
          "base_uri": "https://localhost:8080/"
        },
        "id": "CMt1xuAZEbwv",
        "outputId": "b1f3a5a5-812d-4336-8ecf-c00e54547807"
      },
      "outputs": [
        {
          "output_type": "stream",
          "name": "stdout",
          "text": [
            "Partitions of 5 are: [[1, 1, 1, 1, 1], [1, 1, 1, 2], [1, 2, 2], [1, 1, 3], [2, 3], [1, 4], [5]]\n"
          ]
        }
      ],
      "source": [
        "def partitions(n):\n",
        "    # Initialize a list to store partitions\n",
        "    partition_list = [[] for _ in range(n + 1)]\n",
        "    partition_list[0] = [[]]\n",
        "\n",
        "    for num in range(1, n + 1):\n",
        "        for k in range(1, num + 1):\n",
        "            for partition in partition_list[num - k]:\n",
        "                if k >= partition[-1] if partition else True:\n",
        "                    partition_list[num].append(partition + [k])\n",
        "\n",
        "    return partition_list[n]\n",
        "\n",
        "# Example usage:\n",
        "n = 5\n",
        "print(\"Partitions of\", n, \"are:\", partitions(n))\n",
        "\n"
      ]
    },
    {
      "cell_type": "markdown",
      "metadata": {
        "id": "6lXHDPmHCZ15"
      },
      "source": [
        "## 3. Write a code that produces the list of all partititions of the set of $[n]=\\{ 1,2,3,4\\cdots , n-1, n\\}$ with $0 \\le n \\le 10$ and the sum of elements of the partition which is the a constant $\\frac{n(n+1)}{2}$."
      ]
    },
    {
      "cell_type": "code",
      "execution_count": 5,
      "metadata": {
        "id": "bahIxhWdtfJG",
        "colab": {
          "base_uri": "https://localhost:8080/"
        },
        "outputId": "48abbc2a-1542-4aca-a816-00447c4f0744"
      },
      "outputs": [
        {
          "output_type": "stream",
          "name": "stdout",
          "text": [
            "Partitions of set() with sum 0 are:\n",
            "[]\n",
            "Partitions of {1} with sum 1 are:\n",
            "[1]\n",
            "Partitions of {1, 2} with sum 3 are:\n",
            "[1, 2]\n",
            "Partitions of {1, 2, 3} with sum 6 are:\n",
            "[1, 2, 3]\n",
            "Partitions of {1, 2, 3, 4} with sum 10 are:\n",
            "[1, 2, 3, 4]\n",
            "Partitions of {1, 2, 3, 4, 5} with sum 15 are:\n",
            "[1, 2, 3, 4, 5]\n",
            "Partitions of {1, 2, 3, 4, 5, 6} with sum 21 are:\n",
            "[1, 2, 3, 4, 5, 6]\n",
            "Partitions of {1, 2, 3, 4, 5, 6, 7} with sum 28 are:\n",
            "[1, 2, 3, 4, 5, 6, 7]\n",
            "Partitions of {1, 2, 3, 4, 5, 6, 7, 8} with sum 36 are:\n",
            "[1, 2, 3, 4, 5, 6, 7, 8]\n",
            "Partitions of {1, 2, 3, 4, 5, 6, 7, 8, 9} with sum 45 are:\n",
            "[1, 2, 3, 4, 5, 6, 7, 8, 9]\n",
            "Partitions of {1, 2, 3, 4, 5, 6, 7, 8, 9, 10} with sum 55 are:\n",
            "[1, 2, 3, 4, 5, 6, 7, 8, 9, 10]\n"
          ]
        }
      ],
      "source": [
        "def partitions_sum(n):\n",
        "    def _generate_partitions(current_sum, start, partition):\n",
        "        if current_sum == target_sum:\n",
        "            partitions.append(partition[:])\n",
        "            return\n",
        "        if current_sum > target_sum:\n",
        "            return\n",
        "        for i in range(start, n + 1):\n",
        "            partition.append(i)\n",
        "            _generate_partitions(current_sum + i, i + 1, partition)\n",
        "            partition.pop()\n",
        "\n",
        "    target_sum = n * (n + 1) // 2\n",
        "    partitions = []\n",
        "    _generate_partitions(0, 1, [])\n",
        "    return partitions\n",
        "\n",
        "# Example usage:\n",
        "def print_partitions(partitions):\n",
        "    for partition in partitions:\n",
        "        print(partition)\n",
        "\n",
        "for n in range(11):\n",
        "    print(\"Partitions of\", set(range(1, n + 1)), \"with sum\", n * (n + 1) // 2, \"are:\")\n",
        "    partitions = partitions_sum(n)\n",
        "    print_partitions(partitions)\n"
      ]
    }
  ],
  "metadata": {
    "colab": {
      "provenance": [],
      "include_colab_link": true
    },
    "kernelspec": {
      "display_name": "Python 3",
      "name": "python3"
    },
    "language_info": {
      "name": "python"
    }
  },
  "nbformat": 4,
  "nbformat_minor": 0
}