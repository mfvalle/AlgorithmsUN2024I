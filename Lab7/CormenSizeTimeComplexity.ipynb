{
  "nbformat": 4,
  "nbformat_minor": 0,
  "metadata": {
    "colab": {
      "provenance": [],
      "include_colab_link": true
    },
    "kernelspec": {
      "name": "python3",
      "display_name": "Python 3"
    },
    "language_info": {
      "name": "python"
    }
  },
  "cells": [
    {
      "cell_type": "markdown",
      "metadata": {
        "id": "view-in-github",
        "colab_type": "text"
      },
      "source": [
        "<a href=\"https://colab.research.google.com/github/mfvalle/AlgorithmsUN2024I/blob/main/Lab7/CormenSizeTimeComplexity.ipynb\" target=\"_parent\"><img src=\"https://colab.research.google.com/assets/colab-badge.svg\" alt=\"Open In Colab\"/></a>"
      ]
    },
    {
      "cell_type": "markdown",
      "metadata": {
        "id": "I5UAAxG2_CqQ"
      },
      "source": [
        "# 0.(1 microsecond by instruction)\n",
        "Assuming that you can execute a million instructions $10^6$ every second, i.e. each instruction takes one microsecond $1\\mu s=10^{-6}$ seconds. If you have algorithms take $\\bf{ Time\\ Complexity}$ steps to solve a problem of size $n$ as specified in column one. What is the size of the largest problem that you can solve in the time specified in row one?\n",
        "\n",
        "$$\n",
        "\\begin{array}{|c|c|c|c|c|c|c|c|}\n",
        " \\hline\n",
        " \\bf{ Time\\ Complexity} & Second  & Minute  & Hour & Day & Year & Century & Milenium\n",
        " \\\\\n",
        "  \\hline\\\\\n",
        "\\lg(n) & 2^{10^6} & 2^{6 \\times 10^7} & 2^{3.6 \\times 10^9} & 2^{8.64 \\times 10^{10}} & 2^{3.1536 \\times 10^{13}} & 2^{3.15 \\times 10^{15}} & 2^{3.15 \\times 10^{16}} \\\\ \\hline\n",
        "\\lg^2(n) & 2^{10^3} & 2^{7.75 \\times 10^3} & 2^{6 \\times 10^4} & 2^{2.94 \\times 10^5} & 2^{2.5 \\times 10^6} & 2^{2.4 \\times 10^7} & 2^{2.4 \\times 10^8} \\\\ \\hline\n",
        "\\sqrt{n} & 10^{12} & 3.6 \\times 10^{15} & 1.3 \\times 10^{18} & 7.5 \\times 10^{20} & 1.0 \\times 10^{24} & 1.0 \\times 10^{26} & 1.0 \\times 10^{28} \\\\ \\hline\n",
        "n & 10^6 & 6 \\times 10^7 & 3.6 \\times 10^9 & 8.64 \\times 10^{10} & 3.1536 \\times 10^{13} & 3.15 \\times 10^{15} & 3.15 \\times 10^{17} \\\\ \\hline\n",
        "n \\lg(n) & 1.43 \\times 10^4 & 3 \\times 10^5 & 8 \\times 10^6 & 2 \\times 10^8 & 5 \\times 10^9 & 1 \\times 10^{12} & 3 \\times 10^{14} \\\\ \\hline\n",
        "n^2 & 10^3 & 7.75 \\times 10^3 & 6 \\times 10^5 & 9.3 \\times 10^6 & 5.6 \\times 10^7 & 1.8 \\times 10^8 & 1 \\times 10^9 \\\\ \\hline\n",
        "n^3 & 10^2 & 3.915 \\times 10^2 & 1.532 \\times 10^3 & 4.308 \\times 10^3 & 1.7 \\times 10^4 & 3.7 \\times 10^4 & 1.5 \\times 10^5 \\\\ \\hline\n",
        "n^4 & 31.6 & 56.2 & 10^2 & 1.78 \\times 10^2 & 3.16 \\times 10^2 & 5.62 \\times 10^2 & 10^3 \\\\ \\hline\n",
        "2^n & 19.93 & 25.87 & 31.6 & 36.9 & 41.9 & 47.1 & 52.1 \\\\ \\hline\n",
        "n! & 9 & 12 & 13 & 15 & 17 & 20 & 22 \\\\ \\hline\n",
        "n^n & 5 & 6 & 7 & 8 & 10 & 12 & 13 \\\\ \\hline\n",
        "\\end{array}\n",
        "$$\n",
        "\n"
      ]
    },
    {
      "cell_type": "markdown",
      "metadata": {
        "id": "yCCsCOW2OQbQ"
      },
      "source": [
        "# 1.(10  nanoseconds by instruction)\n",
        "\n",
        "Asuuming that you can execute a 100 million instructions $100 \\times 10^6$ every second, i.e. each instrcution takes 10 nanoseconds, 10 $\\eta s  = 10^{-8} s $. If you have algorithms take $\\bf{ Time\\ Complexity}$ steps to solve a poblem of size $n$ as specified in column one. What is the size of the largest porblem that you can solve in the time specified in row one?\n",
        "$$\n",
        "\\begin{array}{|c|c|c|c|c|c|c|c|}\n",
        " \\hline\n",
        " \\bf{ Time\\ Complexity} & Second  & Minute  & Hour & Day & Year & Century & Mileniun  \\\\\n",
        "  \\hline\\\\\n",
        "\\lg(n) &    &   &  &  &  &  &  \\\\\n",
        "   \\hline\\\\\n",
        "\\lg^2(n) &    &   &  &  &  &  &  \\\\\n",
        "   \\hline\\\\\n",
        "\\sqrt{n} &    &   &  &  &  &  &  \\\\\n",
        " \\hline\n",
        " n &    &   &  &  &  &  &  \\\\\n",
        " \\hline\n",
        " n\\lg(n) &    &   &  &  &  &  &  \\\\\n",
        " \\hline\n",
        " n^2 &    &   &  &  &  &  &  \\\\\n",
        " \\hline\n",
        "  n^3 &    &   &  &  &  &  &  \\\\\n",
        " \\hline\n",
        "  n^4 &    &   &  &  &  &  &  \\\\\n",
        " \\hline\n",
        "  2^n &    &   &  &  &  &  &  \\\\\n",
        " \\hline\n",
        " n! &    &   &  &  &  &  &  \\\\\n",
        " \\hline\n",
        " n^n &    &   &  &  &  &  &  \\\\\n",
        " \\hline\n",
        "\\end{array}\n",
        "$$"
      ]
    },
    {
      "cell_type": "markdown",
      "metadata": {
        "id": "9fIs_70_DJWM"
      },
      "source": [
        "# 2.(2.5  nanoseconds by instruction)\n",
        "\n",
        "Asuuming that you can execute a 400 million instructions $400 \\times 10^6$ every second, i.e. each instrcution takes 2.5  nanoseconds, 2.5 $\\eta s  = 2.5 \\times 10^{-9} s$. If you have algorithms take $\\bf{ Time\\ Complexity}$ steps to solve a problem of size $n$ as specified in column one. What is the size of the largest problem that you can solve in the time specified in row one?\n",
        "$$\n",
        "\\begin{array}{|c|c|c|c|c|c|c|c|}\n",
        " \\hline\n",
        " \\bf{ Time\\ Complexity} & Second  & Minute  & Hour & Day & Year & Century & Mileniun  \\\\\n",
        "  \\hline\\\\\n",
        "\\lg(n) &    &   &  &  &  &  &  \\\\\n",
        "   \\hline\\\\\n",
        "\\lg^2(n) &    &   &  &  &  &  &  \\\\\n",
        "   \\hline\\\\\n",
        "\\sqrt{n} &    &   &  &  &  &  &  \\\\\n",
        " \\hline\n",
        " n &    &   &  &  &  &  &  \\\\\n",
        " \\hline\n",
        " n\\lg(n) &    &   &  &  &  &  &  \\\\\n",
        " \\hline\n",
        " n^2 &    &   &  &  &  &  &  \\\\\n",
        " \\hline\n",
        "  n^3 &    &   &  &  &  &  &  \\\\\n",
        " \\hline\n",
        "  n^4 &    &   &  &  &  &  &  \\\\\n",
        " \\hline\n",
        "  2^n &    &   &  &  &  &  &  \\\\\n",
        " \\hline\n",
        " n! &    &   &  &  &  &  &  \\\\\n",
        " \\hline\n",
        " n^n &    &   &  &  &  &  &  \\\\\n",
        " \\hline\n",
        "\\end{array}\n",
        "$$"
      ]
    },
    {
      "cell_type": "markdown",
      "metadata": {
        "id": "kwpTH36ZIyQJ"
      },
      "source": [
        "# 3. (1 noneosecond by instruction)\n",
        "\n",
        "Asuuming that you can execute a 1000 million instructions $10^9$ every second, i.e. each instrcution takes 1  nanosecond, 1 $\\eta s  = 10^{-9} s$. If you have algorithms take $\\bf{ Time\\ Complexity}$ steps to solve a problem of size $n$ as specified in column one. What is the size of the largest problem that you can solve in the time specified in row one?\n",
        "$$\n",
        "\\begin{array}{|c|c|c|c|c|c|c|c|}\n",
        " \\hline\n",
        " \\bf{ Time\\ Complexity} & Second  & Minute  & Hour & Day & Year & Century & Mileniun  \\\\\n",
        "  \\hline\\\\\n",
        "\\lg(n) &    &   &  &  &  &  &  \\\\\n",
        "   \\hline\\\\\n",
        "\\lg^2(n) &    &   &  &  &  &  &  \\\\\n",
        "   \\hline\\\\\n",
        "\\sqrt{n} &    &   &  &  &  &  &  \\\\\n",
        " \\hline\n",
        " n &    &   &  &  &  &  &  \\\\\n",
        " \\hline\n",
        " n\\lg(n) &    &   &  &  &  &  &  \\\\\n",
        " \\hline\n",
        " n^2 &    &   &  &  &  &  &  \\\\\n",
        " \\hline\n",
        "  n^3 &    &   &  &  &  &  &  \\\\\n",
        " \\hline\n",
        "  n^4 &    &   &  &  &  &  &  \\\\\n",
        " \\hline\n",
        "  2^n &    &   &  &  &  &  &  \\\\\n",
        " \\hline\n",
        " n! &    &   &  &  &  &  &  \\\\\n",
        " \\hline\n",
        " n^n &    &   &  &  &  &  &  \\\\\n",
        " \\hline\n",
        "\\end{array}\n",
        "$$"
      ]
    }
  ]
}